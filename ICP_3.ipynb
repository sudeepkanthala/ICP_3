{
  "nbformat": 4,
  "nbformat_minor": 0,
  "metadata": {
    "colab": {
      "provenance": [],
      "authorship_tag": "ABX9TyOkSfulZff15xB76ZZ2D0Tw",
      "include_colab_link": true
    },
    "kernelspec": {
      "name": "python3",
      "display_name": "Python 3"
    },
    "language_info": {
      "name": "python"
    }
  },
  "cells": [
    {
      "cell_type": "markdown",
      "metadata": {
        "id": "view-in-github",
        "colab_type": "text"
      },
      "source": [
        "<a href=\"https://colab.research.google.com/github/sudeepkanthala/ICP_3/blob/main/ICP_3.ipynb\" target=\"_parent\"><img src=\"https://colab.research.google.com/assets/colab-badge.svg\" alt=\"Open In Colab\"/></a>"
      ]
    },
    {
      "cell_type": "code",
      "source": [
        "1. Create a class Employee and then do the following\n",
        "• Create a data member to count the number of Employees\n",
        "• Create a constructor to initialize name, family, salary, department\n",
        "• Create a function to average salary\n",
        "• Create a Fulltime Employee class and it should inherit the properties of Employee class\n",
        "• Create the instances of Fulltime Employee class and Employee class and call their member functions"
      ],
      "metadata": {
        "id": "jb6E47rZc7GW"
      },
      "execution_count": null,
      "outputs": []
    },
    {
      "cell_type": "code",
      "source": [
        "class Employee:\n",
        "\n",
        "    empCount = 0\n",
        "\n",
        "    def __init__(self, name, family, salary, department):\n",
        "        self.name = name\n",
        "        self.family = family\n",
        "        self.salary = salary\n",
        "        self.department = department\n",
        "        Employee.empCount += 1\n",
        "\n",
        "    def avgSalary(self):\n",
        "        avg = self.salary\n",
        "        print(f\"Average Salary: {avg}\")\n",
        "\n",
        "class FullTimeEmployee(Employee):\n",
        "\n",
        "    def __init__(self, name, family, salary, department):\n",
        "        super().__init__(name, family, salary, department)\n",
        "\n",
        "emp1 = Employee(\"John\", \"Doe\", 50000, \"IT\")\n",
        "emp2 = Employee(\"Jane\", \"Doe\", 60000, \"Sales\")\n",
        "\n",
        "ftemp1 = FullTimeEmployee(\"Jim\", \"Taylor\", 70000, \"Marketing\")\n",
        "ftemp2 = FullTimeEmployee(\"Mary\", \"Jones\", 80000, \"Engineering\")\n",
        "\n",
        "print(Employee.empCount)\n",
        "emp1.avgSalary()\n",
        "ftemp2.avgSalary()"
      ],
      "metadata": {
        "colab": {
          "base_uri": "https://localhost:8080/"
        },
        "id": "lHRjwkcRc7ph",
        "outputId": "06ad01f3-5f8a-4eb0-abac-ce838cb72c95"
      },
      "execution_count": 1,
      "outputs": [
        {
          "output_type": "stream",
          "name": "stdout",
          "text": [
            "4\n",
            "Average Salary: 50000\n",
            "Average Salary: 80000\n"
          ]
        }
      ]
    },
    {
      "cell_type": "code",
      "source": [
        "2. Numpy\n",
        "Using NumPy create random vector of size 20 having only float in the range 1-20.\n",
        "Then reshape the array to 4 by 5\n",
        "Then replace the max in each row by 0 (axis=1)\n",
        "(you can NOT implement it via for loop)"
      ],
      "metadata": {
        "id": "hXdTgSlHenFs"
      },
      "execution_count": null,
      "outputs": []
    },
    {
      "cell_type": "code",
      "source": [
        "import numpy as np\n",
        "\n",
        "# Create random vector of size 20 with floats between 1-20\n",
        "vec = np.random.uniform(1, 20, 20)\n",
        "\n",
        "# Reshape vector to 4 x 5 array\n",
        "arr = vec.reshape(4, 5)\n",
        "\n",
        "# Replace max in each row with 0\n",
        "arr[np.arange(arr.shape[0]), arr.argmax(1)] = 0\n",
        "\n",
        "print(arr)"
      ],
      "metadata": {
        "colab": {
          "base_uri": "https://localhost:8080/"
        },
        "id": "glg7wR6KenVH",
        "outputId": "b20e05fa-2283-4f86-851e-c18bee6526b0"
      },
      "execution_count": 2,
      "outputs": [
        {
          "output_type": "stream",
          "name": "stdout",
          "text": [
            "[[ 2.63652822  6.48472014  9.08751619  0.          4.05244705]\n",
            " [15.76099623 16.12432779  0.         13.06703093  9.76084898]\n",
            " [11.98056146 12.69466689  0.         18.12258975 13.84737708]\n",
            " [ 3.969593    0.         13.59080056  1.85729332  6.9387189 ]]\n"
          ]
        }
      ]
    }
  ]
}